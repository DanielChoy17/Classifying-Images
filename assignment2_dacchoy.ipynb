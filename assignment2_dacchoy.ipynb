{
  "cells": [
    {
      "cell_type": "markdown",
      "metadata": {
        "id": "NegAkmLZKITL"
      },
      "source": [
        "# CSE 144 Spring 2023 Assignment 2\n",
        "For this assignment, your task is to train a several convolutional neural networks to classify CIFAR-10 images. CIFAR-10 is a 10-class image classification dataset with 50,000 training images and 10,000 test images. You can find more info in https://www.cs.toronto.edu/~kriz/cifar.html. You should define a simple CNN with restrictions to classify this dataset. "
      ]
    },
    {
      "cell_type": "code",
      "execution_count": 1,
      "metadata": {
        "id": "UQ7vc7_hKITR"
      },
      "outputs": [],
      "source": [
        "import matplotlib.pyplot as plt\n",
        "import pandas as pd\n",
        "%matplotlib inline\n",
        "%config InlineBackend.figure_format=\"retina\"\n",
        "import numpy as np\n",
        "import random\n",
        "import torch\n",
        "from torch import nn, optim\n",
        "import math\n",
        "from IPython import display\n",
        "import torchvision.datasets as datasets\n",
        "import torchvision.transforms as transforms\n",
        "from torch.utils.data import TensorDataset\n",
        "import pdb"
      ]
    },
    {
      "cell_type": "markdown",
      "source": [
        "#### Step-0: Setting a Seed for Random Number Generators in Python and PyTorch"
      ],
      "metadata": {
        "id": "_9paVLUhMk1Y"
      }
    },
    {
      "cell_type": "code",
      "source": [
        "seed = 42\n",
        "random.seed(seed)\n",
        "torch.manual_seed(seed)"
      ],
      "metadata": {
        "id": "Hz8XTp_zMkLu",
        "colab": {
          "base_uri": "https://localhost:8080/"
        },
        "outputId": "d631e9d2-3a50-4965-f7d0-9b0486e0e3f2"
      },
      "execution_count": 2,
      "outputs": [
        {
          "output_type": "execute_result",
          "data": {
            "text/plain": [
              "<torch._C.Generator at 0x7f5b562d9ef0>"
            ]
          },
          "metadata": {},
          "execution_count": 2
        }
      ]
    },
    {
      "cell_type": "markdown",
      "metadata": {
        "id": "ZVLfTcsJKITR"
      },
      "source": [
        "#### Step-1: Import dataset\n",
        "Load the CIFAR-10 dataset using `datasets.CIFAR10` and use 10% of training images as validation data. Notice that PyTorch would normalize the range of pixel values to 0-1 automatically. (5 scores)"
      ]
    },
    {
      "cell_type": "code",
      "execution_count": 3,
      "metadata": {
        "id": "K6PznhssKITR",
        "colab": {
          "base_uri": "https://localhost:8080/"
        },
        "outputId": "d5a06452-b878-4d78-8c7d-5729ac4dfdab"
      },
      "outputs": [
        {
          "output_type": "stream",
          "name": "stdout",
          "text": [
            "Files already downloaded and verified\n",
            "Files already downloaded and verified\n"
          ]
        }
      ],
      "source": [
        "# ###### Your codes start here.######\n",
        "# Loading the CIFAR-10 dataset\n",
        "train_dataset = datasets.CIFAR10(root='./data', train=True, download=True, transform=transforms.Compose([transforms.ToTensor(), transforms.RandomHorizontalFlip()]))\n",
        "test_dataset = datasets.CIFAR10(root='./data', train=False, download=True, transform=transforms.Compose([transforms.ToTensor()]))\n",
        "\n",
        "# Split the training set into train and validation sets\n",
        "val_dataset_size = int(len(train_dataset) * 0.1)\n",
        "train_dataset_size = len(train_dataset) - val_dataset_size\n",
        "\n",
        "train_dataset, val_dataset = torch.utils.data.random_split(train_dataset, [train_dataset_size, val_dataset_size])\n",
        "# ###### Your codes end here.######"
      ]
    },
    {
      "cell_type": "markdown",
      "source": [
        "#### Step-2: Building Data Loaders\n",
        "\n",
        "In this step, you will use PyTorch's DataLoader function to create data loaders for your training, validation, and test datasets. The DataLoader function allows you to load data in batches, which can help improve training efficiency. You will set the batch size to 128, which means that the model will be trained on 128 samples at a time.\n",
        "\n",
        "For the train_dataset, you will set the shuffle parameter to True, which randomizes the order in which the data is loaded, helping the model learn from a more diverse set of examples. On the other hand, for the val_dataset and test_dataset, you will set the shuffle parameter to False. (5 scores)"
      ],
      "metadata": {
        "id": "HDP7KP2NfLup"
      }
    },
    {
      "cell_type": "code",
      "source": [
        "###### Your codes start here.######\n",
        "trainloader = torch.utils.data.DataLoader(train_dataset, batch_size=128, shuffle=True)\n",
        "valloader = torch.utils.data.DataLoader(val_dataset, batch_size=128, shuffle=False)\n",
        "testloader = torch.utils.data.DataLoader(test_dataset, batch_size=128, shuffle=False)\n",
        "###### Your codes end here.######\n",
        "\n",
        "# assert the size of the train dataset\n",
        "assert len(train_dataset) == 45000\n",
        "assert train_dataset[0][0].shape == torch.Size([3, 32, 32])\n",
        "\n",
        "# assert the size of the validation dataset\n",
        "assert len(val_dataset) == 5000\n",
        "assert val_dataset[0][0].shape == torch.Size([3, 32, 32])\n",
        "\n",
        "# assert the size of the test dataset\n",
        "assert len(test_dataset) == 10000\n",
        "assert test_dataset[0][0].shape == torch.Size([3, 32, 32])"
      ],
      "metadata": {
        "id": "7VBb_YqNfFvy"
      },
      "execution_count": 4,
      "outputs": []
    },
    {
      "cell_type": "markdown",
      "source": [
        "**Visulize one image from CIFAR**"
      ],
      "metadata": {
        "id": "ek_nIbhhkMry"
      }
    },
    {
      "cell_type": "code",
      "source": [
        "image, _ = trainloader.dataset.__getitem__(0)\n",
        "image = image.permute(1,2,0)\n",
        "plt.imshow(image, cmap=plt.cm.binary)\n",
        "plt.axis('off');"
      ],
      "metadata": {
        "id": "L3fbeVE1_I16",
        "colab": {
          "base_uri": "https://localhost:8080/",
          "height": 406
        },
        "outputId": "13ce261b-ba6a-4e4b-d82e-46ec5fbe529b"
      },
      "execution_count": 5,
      "outputs": [
        {
          "output_type": "display_data",
          "data": {
            "text/plain": [
              "<Figure size 640x480 with 1 Axes>"
            ],
            "image/png": "[encoded data removed]"
          },
          "metadata": {
            "image/png": {
              "width": 389,
              "height": 389
            }
          }
        }
      ]
    },
    {
      "cell_type": "markdown",
      "metadata": {
        "id": "eFpoh2XBKITT"
      },
      "source": [
        "#### Step-3: Build a neural network.\n",
        "Build your convolutional neural networks by adding some layers. You should use 2 convolution layers and ReLU as the default activation function. The kernel size of both layers should be 3x3. Use 32 and 64 as the number of filters for the first and the second convolutional layers, respectively. After that, flatten your input and add two more dense layers. There should be 1024 units in the first dense with ReLU activation, and use 10 hidden units in the second dense layer with softmax activation. The requirements are same for the following questions. (10 scores)"
      ]
    },
    {
      "cell_type": "code",
      "source": [
        "device = torch.device(\"cuda:0\" if torch.cuda.is_available() else \"cpu\")"
      ],
      "metadata": {
        "id": "hAajjlzRK3LO"
      },
      "execution_count": 6,
      "outputs": []
    },
    {
      "cell_type": "code",
      "execution_count": 7,
      "metadata": {
        "id": "Y-7IE80mKITT"
      },
      "outputs": [],
      "source": [
        "###### Your code starts here. ######\n",
        "class Model_3(nn.Module):\n",
        "    def __init__(self):\n",
        "        super(Model_3, self).__init__()\n",
        "        self.conv1 = nn.Conv2d(3, 32, kernel_size=3)\n",
        "        self.conv2 = nn.Conv2d(32, 64, kernel_size=3)\n",
        "        self.fc1 = nn.Linear(64*6*6, 1024)\n",
        "        self.fc2 = nn.Linear(1024, 10)\n",
        "\n",
        "    def forward(self, x, verbose=False):\n",
        "        x = self.conv1(x)\n",
        "        x = nn.functional.relu(x)\n",
        "        x = nn.functional.max_pool2d(x, kernel_size=2)\n",
        "        x = self.conv2(x)\n",
        "        x = nn.functional.relu(x)\n",
        "        x = nn.functional.max_pool2d(x, kernel_size=2)\n",
        "        x = x.view(-1, 64*6*6)\n",
        "        x = self.fc1(x)\n",
        "        x = nn.functional.relu(x)\n",
        "        x = self.fc2(x)\n",
        "        x = nn.functional.log_softmax(x, dim=1)\n",
        "        return x\n",
        "###### Your codes end here.######"
      ]
    },
    {
      "cell_type": "markdown",
      "metadata": {
        "id": "dt27nBzJKITU"
      },
      "source": [
        "#### Step-4: Train the model\n",
        "Compile model here and set your initial hyperparameters. Use SGD as the optimizer with initial learning rate 0.01. You could choose 'CrossEntropyLoss' as your loss function, and the metrics should be accuracy. After that, train your model for 10 epochs. The requirements are same for the following questions. (15 scores)"
      ]
    },
    {
      "cell_type": "code",
      "execution_count": 8,
      "metadata": {
        "id": "egGS7HGEKITV"
      },
      "outputs": [],
      "source": [
        "def evaluate_model(model, dataloader, is_test=False):\n",
        "  #Evaluation\n",
        "\n",
        "  # Set model to evaluation mode\n",
        "  model.eval()\n",
        "\n",
        "  with torch.no_grad():\n",
        "    correct = 0\n",
        "    loss = 0\n",
        "\n",
        "    criterion = torch.nn.CrossEntropyLoss(reduction='none')\n",
        "\n",
        "    for data, target in dataloader:\n",
        "        data, target = data.to(device), target.to(device)\n",
        "        outputs = model(data)\n",
        "        \n",
        "        loss += torch.sum(criterion(outputs, target)).item()\n",
        "        \n",
        "        pred = outputs.data.max(1, keepdim=True)[1] # get the index of the max log-probability                                                                 \n",
        "        correct += pred.eq(target.data.view_as(pred)).cpu().sum().item()\n",
        "\n",
        "    loss /= len(dataloader.dataset)\n",
        "    accuracy = 100. * correct / len(dataloader.dataset)\n",
        "    print('\\n{} set: Average loss: {:.4f}, Accuracy: {}/{} ({:.0f}%)\\n'.format(\n",
        "        \"Test\" if is_test else \"Validation\",\n",
        "        loss, correct, len(dataloader.dataset),\n",
        "        accuracy))\n",
        "  # Set model back to training mode\n",
        "  model.train()\n",
        "\n",
        "###### Your code starts here. ######\n",
        "def train_model(model, epochs, trainloader, valloader, optimizer):\n",
        "    model.train()\n",
        "\n",
        "    criterion = torch.nn.CrossEntropyLoss()\n",
        "\n",
        "    for epoch in range(epochs):\n",
        "        for batch_idx, (data, target) in enumerate(trainloader):\n",
        "            data, target = data.to(device), target.to(device)\n",
        "\n",
        "            optimizer.zero_grad()\n",
        "\n",
        "            output = model(data)\n",
        "            loss = criterion(output, target)\n",
        "            loss.backward()\n",
        "            optimizer.step()\n",
        "\n",
        "        evaluate_model(model, valloader)\n",
        "###### Your code end here. ######"
      ]
    },
    {
      "cell_type": "markdown",
      "source": [
        "**Set hyper-parameters**"
      ],
      "metadata": {
        "id": "aTg6snZ4fu2U"
      }
    },
    {
      "cell_type": "code",
      "source": [
        "learning_rate = 0.01\n",
        "epochs = 10\n",
        "batch_size = 128"
      ],
      "metadata": {
        "id": "BJdfqGOafyK0"
      },
      "execution_count": 9,
      "outputs": []
    },
    {
      "cell_type": "code",
      "source": [
        "model_step_3 = Model_3()\n",
        "model_step_3.to(device)\n",
        "  \n",
        "optimizer = torch.optim.SGD(model_step_3.parameters(), lr=learning_rate)\n",
        "train_model(model_step_3, epochs, trainloader, valloader, optimizer)"
      ],
      "metadata": {
        "id": "72FMIYO1nu-8",
        "colab": {
          "base_uri": "https://localhost:8080/"
        },
        "outputId": "9c2ecb7e-ff2c-4f23-861f-f1dfc91ce502"
      },
      "execution_count": 10,
      "outputs": [
        {
          "output_type": "stream",
          "name": "stdout",
          "text": [
            "\n",
            "Validation set: Average loss: 2.2826, Accuracy: 1027/5000 (21%)\n",
            "\n",
            "\n",
            "Validation set: Average loss: 2.1499, Accuracy: 1354/5000 (27%)\n",
            "\n",
            "\n",
            "Validation set: Average loss: 1.9719, Accuracy: 1398/5000 (28%)\n",
            "\n",
            "\n",
            "Validation set: Average loss: 1.9103, Accuracy: 1543/5000 (31%)\n",
            "\n",
            "\n",
            "Validation set: Average loss: 1.8214, Accuracy: 1803/5000 (36%)\n",
            "\n",
            "\n",
            "Validation set: Average loss: 1.7397, Accuracy: 1894/5000 (38%)\n",
            "\n",
            "\n",
            "Validation set: Average loss: 1.7189, Accuracy: 1954/5000 (39%)\n",
            "\n",
            "\n",
            "Validation set: Average loss: 1.6651, Accuracy: 2064/5000 (41%)\n",
            "\n",
            "\n",
            "Validation set: Average loss: 1.5757, Accuracy: 2187/5000 (44%)\n",
            "\n",
            "\n",
            "Validation set: Average loss: 1.4965, Accuracy: 2322/5000 (46%)\n",
            "\n"
          ]
        }
      ]
    },
    {
      "cell_type": "code",
      "source": [
        "# Evaluation\n",
        "evaluate_model(model_step_3, testloader, is_test=True)"
      ],
      "metadata": {
        "id": "BTq0j4GpOvyU",
        "colab": {
          "base_uri": "https://localhost:8080/"
        },
        "outputId": "dc160a24-0af6-414f-d2bc-dbb125b1dd95"
      },
      "execution_count": 11,
      "outputs": [
        {
          "output_type": "stream",
          "name": "stdout",
          "text": [
            "\n",
            "Test set: Average loss: 1.4784, Accuracy: 4757/10000 (48%)\n",
            "\n"
          ]
        }
      ]
    },
    {
      "cell_type": "markdown",
      "metadata": {
        "id": "urGP_6ZJKITV"
      },
      "source": [
        "#### Step-5: Regularization\n",
        "Add one dropout layer with 0.5 drop rate between the two dense layer and apply a SGD with momentum 0.9. You can keep all other hyperparameters the same. (5 scores)"
      ]
    },
    {
      "cell_type": "code",
      "execution_count": 12,
      "metadata": {
        "id": "vlIUR4fgKITV",
        "colab": {
          "base_uri": "https://localhost:8080/"
        },
        "outputId": "d66d6e43-405e-45de-bafc-5d167a7f12d7"
      },
      "outputs": [
        {
          "output_type": "stream",
          "name": "stdout",
          "text": [
            "\n",
            "Validation set: Average loss: 1.7820, Accuracy: 1829/5000 (37%)\n",
            "\n",
            "\n",
            "Validation set: Average loss: 1.4918, Accuracy: 2276/5000 (46%)\n",
            "\n",
            "\n",
            "Validation set: Average loss: 1.3169, Accuracy: 2630/5000 (53%)\n",
            "\n",
            "\n",
            "Validation set: Average loss: 1.2059, Accuracy: 2880/5000 (58%)\n",
            "\n",
            "\n",
            "Validation set: Average loss: 1.1080, Accuracy: 3039/5000 (61%)\n",
            "\n",
            "\n",
            "Validation set: Average loss: 1.0394, Accuracy: 3197/5000 (64%)\n",
            "\n",
            "\n",
            "Validation set: Average loss: 0.9978, Accuracy: 3266/5000 (65%)\n",
            "\n",
            "\n",
            "Validation set: Average loss: 0.9638, Accuracy: 3313/5000 (66%)\n",
            "\n",
            "\n",
            "Validation set: Average loss: 0.8949, Accuracy: 3423/5000 (68%)\n",
            "\n",
            "\n",
            "Validation set: Average loss: 0.8594, Accuracy: 3493/5000 (70%)\n",
            "\n"
          ]
        }
      ],
      "source": [
        "###### Your code starts here. ######\n",
        "class Model_5(nn.Module):\n",
        "    def __init__(self):\n",
        "        super(Model_5, self).__init__()\n",
        "        self.conv1 = nn.Conv2d(3, 32, kernel_size=3)\n",
        "        self.conv2 = nn.Conv2d(32, 64, kernel_size=3)\n",
        "        self.fc1 = nn.Linear(64*6*6, 1024)\n",
        "        self.dropout = nn.Dropout(p=0.5)\n",
        "        self.fc2 = nn.Linear(1024, 10)\n",
        "\n",
        "    def forward(self, x, verbose=False):\n",
        "        x = self.conv1(x)\n",
        "        x = nn.functional.relu(x)\n",
        "        x = nn.functional.max_pool2d(x, kernel_size=2)\n",
        "        x = self.conv2(x)\n",
        "        x = nn.functional.relu(x)\n",
        "        x = nn.functional.max_pool2d(x, kernel_size=2)\n",
        "        x = x.view(-1, 64*6*6)\n",
        "        x = self.fc1(x)\n",
        "        x = nn.functional.relu(x)\n",
        "        x = self.dropout(x)\n",
        "        x = self.fc2(x)\n",
        "        x = nn.functional.log_softmax(x, dim=1)\n",
        "        return x\n",
        "\n",
        "model_step_5 = Model_5()\n",
        "model_step_5.to(device)\n",
        "  \n",
        "optimizer = torch.optim.SGD(model_step_5.parameters(), lr=learning_rate, momentum=0.9)\n",
        "train_model(model_step_5, epochs, trainloader, valloader, optimizer)\n",
        "###### Your codes end here.######"
      ]
    },
    {
      "cell_type": "code",
      "source": [
        "# Evaluation\n",
        "evaluate_model(model_step_5, testloader, is_test=True)"
      ],
      "metadata": {
        "id": "dcK68GU7NlrG",
        "colab": {
          "base_uri": "https://localhost:8080/"
        },
        "outputId": "8f135479-f3a3-4e6b-8e14-c57ee1b9815e"
      },
      "execution_count": 13,
      "outputs": [
        {
          "output_type": "stream",
          "name": "stdout",
          "text": [
            "\n",
            "Test set: Average loss: 0.8641, Accuracy: 7005/10000 (70%)\n",
            "\n"
          ]
        }
      ]
    },
    {
      "cell_type": "markdown",
      "metadata": {
        "id": "cGn8p6_wKITV"
      },
      "source": [
        "#### Step-6: Deeper neural network\n",
        "\n",
        "Try to add two more convolution layers in your model (four in total). Use 128 as the number of filters for two extra convolution layers, and 3x3 as the kernel size. (5 scores)"
      ]
    },
    {
      "cell_type": "code",
      "execution_count": 14,
      "metadata": {
        "id": "R1JC-NoEKITW",
        "colab": {
          "base_uri": "https://localhost:8080/"
        },
        "outputId": "a9452937-106e-4e7f-a95b-198c5e668873"
      },
      "outputs": [
        {
          "output_type": "stream",
          "name": "stdout",
          "text": [
            "\n",
            "Validation set: Average loss: 2.1336, Accuracy: 1023/5000 (20%)\n",
            "\n",
            "\n",
            "Validation set: Average loss: 1.7189, Accuracy: 1762/5000 (35%)\n",
            "\n",
            "\n",
            "Validation set: Average loss: 1.5610, Accuracy: 2108/5000 (42%)\n",
            "\n",
            "\n",
            "Validation set: Average loss: 1.3900, Accuracy: 2369/5000 (47%)\n",
            "\n",
            "\n",
            "Validation set: Average loss: 1.2457, Accuracy: 2759/5000 (55%)\n",
            "\n",
            "\n",
            "Validation set: Average loss: 1.1326, Accuracy: 2955/5000 (59%)\n",
            "\n",
            "\n",
            "Validation set: Average loss: 1.1061, Accuracy: 3033/5000 (61%)\n",
            "\n",
            "\n",
            "Validation set: Average loss: 0.9956, Accuracy: 3229/5000 (65%)\n",
            "\n",
            "\n",
            "Validation set: Average loss: 0.9440, Accuracy: 3320/5000 (66%)\n",
            "\n",
            "\n",
            "Validation set: Average loss: 0.8951, Accuracy: 3416/5000 (68%)\n",
            "\n"
          ]
        }
      ],
      "source": [
        "###### Your code starts here. ######\n",
        "class Model_6(nn.Module):\n",
        "    def __init__(self):\n",
        "        super(Model_6, self).__init__()\n",
        "        self.conv1 = nn.Conv2d(3, 32, kernel_size=3)\n",
        "        self.conv2 = nn.Conv2d(32, 64, kernel_size=3)\n",
        "        self.conv3 = nn.Conv2d(64, 128, kernel_size=3)\n",
        "        self.conv4 = nn.Conv2d(128, 128, kernel_size=3)\n",
        "        self.fc1 = nn.Linear(128*2*2, 1024)\n",
        "        self.dropout = nn.Dropout(p=0.5)\n",
        "        self.fc2 = nn.Linear(1024, 10)\n",
        "\n",
        "    def forward(self, x, verbose=False):\n",
        "        x = self.conv1(x)\n",
        "        x = nn.functional.relu(x)\n",
        "        x = nn.functional.max_pool2d(x, kernel_size=2)\n",
        "        x = self.conv2(x)\n",
        "        x = nn.functional.relu(x)\n",
        "        x = nn.functional.max_pool2d(x, kernel_size=2)\n",
        "        x = self.conv3(x)\n",
        "        x = nn.functional.relu(x)\n",
        "        x = self.conv4(x)\n",
        "        x = nn.functional.relu(x)\n",
        "        x = x.view(-1, 128*2*2)\n",
        "        x = self.fc1(x)\n",
        "        x = nn.functional.relu(x)\n",
        "        x = self.dropout(x)\n",
        "        x = self.fc2(x)\n",
        "        x = nn.functional.log_softmax(x, dim=1)\n",
        "        return x\n",
        "\n",
        "model_step_6 = Model_6()\n",
        "model_step_6.to(device)\n",
        "  \n",
        "optimizer = torch.optim.SGD(model_step_6.parameters(), lr=learning_rate, momentum=0.9)\n",
        "train_model(model_step_6, epochs, trainloader, valloader, optimizer)\n",
        "###### Your codes end here.######"
      ]
    },
    {
      "cell_type": "code",
      "execution_count": 15,
      "metadata": {
        "id": "ldf0M6JHnryK",
        "colab": {
          "base_uri": "https://localhost:8080/"
        },
        "outputId": "000d4886-7aca-4203-b7aa-9f60c178bdaf"
      },
      "outputs": [
        {
          "output_type": "stream",
          "name": "stdout",
          "text": [
            "\n",
            "Test set: Average loss: 0.8944, Accuracy: 6879/10000 (69%)\n",
            "\n"
          ]
        }
      ],
      "source": [
        "# Evaluation\n",
        "evaluate_model(model_step_6, testloader, is_test=True)"
      ]
    },
    {
      "cell_type": "markdown",
      "metadata": {
        "id": "NLm_Vh-1KITW"
      },
      "source": [
        "#### Step-7: Activation function\n",
        "\n",
        "Try another activation function, such as elu, P-ReLU. (5 scores)"
      ]
    },
    {
      "cell_type": "code",
      "execution_count": 16,
      "metadata": {
        "id": "QKGOjvceKITW",
        "colab": {
          "base_uri": "https://localhost:8080/"
        },
        "outputId": "a19e0038-0922-4b86-8b33-4d968d9a8946"
      },
      "outputs": [
        {
          "output_type": "stream",
          "name": "stdout",
          "text": [
            "\n",
            "Validation set: Average loss: 1.7084, Accuracy: 1863/5000 (37%)\n",
            "\n",
            "\n",
            "Validation set: Average loss: 1.4347, Accuracy: 2372/5000 (47%)\n",
            "\n",
            "\n",
            "Validation set: Average loss: 1.3222, Accuracy: 2652/5000 (53%)\n",
            "\n",
            "\n",
            "Validation set: Average loss: 1.2265, Accuracy: 2801/5000 (56%)\n",
            "\n",
            "\n",
            "Validation set: Average loss: 1.1140, Accuracy: 3026/5000 (61%)\n",
            "\n",
            "\n",
            "Validation set: Average loss: 1.0463, Accuracy: 3151/5000 (63%)\n",
            "\n",
            "\n",
            "Validation set: Average loss: 1.0001, Accuracy: 3266/5000 (65%)\n",
            "\n",
            "\n",
            "Validation set: Average loss: 0.9551, Accuracy: 3340/5000 (67%)\n",
            "\n",
            "\n",
            "Validation set: Average loss: 0.9136, Accuracy: 3414/5000 (68%)\n",
            "\n",
            "\n",
            "Validation set: Average loss: 0.8814, Accuracy: 3460/5000 (69%)\n",
            "\n"
          ]
        }
      ],
      "source": [
        "###### Your code starts here. ######\n",
        "class Model_7(nn.Module):\n",
        "    def __init__(self):\n",
        "        super(Model_7, self).__init__()\n",
        "        self.conv1 = nn.Conv2d(3, 32, kernel_size=3)\n",
        "        self.conv2 = nn.Conv2d(32, 64, kernel_size=3)\n",
        "        self.conv3 = nn.Conv2d(64, 128, kernel_size=3)\n",
        "        self.conv4 = nn.Conv2d(128, 128, kernel_size=3)\n",
        "        self.fc1 = nn.Linear(128*2*2, 1024)\n",
        "        self.dropout = nn.Dropout(p=0.5)\n",
        "        self.fc2 = nn.Linear(1024, 10)\n",
        "\n",
        "    def forward(self, x, verbose=False):\n",
        "        x = self.conv1(x)\n",
        "        x = nn.functional.elu(x)\n",
        "        x = nn.functional.max_pool2d(x, kernel_size=2)\n",
        "        x = self.conv2(x)\n",
        "        x = nn.functional.elu(x)\n",
        "        x = nn.functional.max_pool2d(x, kernel_size=2)\n",
        "        x = self.conv3(x)\n",
        "        x = nn.functional.elu(x)\n",
        "        x = self.conv4(x)\n",
        "        x = nn.functional.elu(x)\n",
        "        x = x.view(-1, 128*2*2)\n",
        "        x = self.fc1(x)\n",
        "        x = nn.functional.elu(x)\n",
        "        x = self.dropout(x)\n",
        "        x = self.fc2(x)\n",
        "        x = nn.functional.log_softmax(x, dim=1)\n",
        "        return x\n",
        "\n",
        "model_step_7 = Model_7()\n",
        "model_step_7.to(device)\n",
        "  \n",
        "optimizer = torch.optim.SGD(model_step_7.parameters(), lr=learning_rate, momentum=0.9)\n",
        "train_model(model_step_7, epochs, trainloader, valloader, optimizer)\n",
        "###### Your codes end here.######"
      ]
    },
    {
      "cell_type": "code",
      "execution_count": 17,
      "metadata": {
        "id": "SNMyBMv_nsit",
        "colab": {
          "base_uri": "https://localhost:8080/"
        },
        "outputId": "33f2f847-7f15-4a49-9186-db3ab1b97de5"
      },
      "outputs": [
        {
          "output_type": "stream",
          "name": "stdout",
          "text": [
            "\n",
            "Test set: Average loss: 0.8761, Accuracy: 6933/10000 (69%)\n",
            "\n"
          ]
        }
      ],
      "source": [
        "# Evaluation\n",
        "evaluate_model(model_step_7, testloader, is_test=True)"
      ]
    }
  ],
  "metadata": {
    "colab": {
      "provenance": []
    },
    "interpreter": {
      "hash": "3afe1e4ce7822ba0e325ee279bb4d100dadd903c2abe2139ffec7391692aa1eb"
    },
    "kernelspec": {
      "display_name": "Python 3.6.13 ('zichao')",
      "language": "python",
      "name": "python3"
    },
    "language_info": {
      "codemirror_mode": {
        "name": "ipython",
        "version": 3
      },
      "file_extension": ".py",
      "mimetype": "text/x-python",
      "name": "python",
      "nbconvert_exporter": "python",
      "pygments_lexer": "ipython3",
      "version": "3.6.13"
    },
    "orig_nbformat": 4,
    "accelerator": "GPU",
    "gpuClass": "standard"
  },
  "nbformat": 4,
  "nbformat_minor": 0
}